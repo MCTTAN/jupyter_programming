{
 "cells": [
  {
   "cell_type": "code",
   "execution_count": 11,
   "metadata": {},
   "outputs": [
    {
     "data": {
      "application/vnd.jupyter.widget-view+json": {
       "model_id": "42487b3604f64b66bb8274e99b0e3eaf",
       "version_major": 2,
       "version_minor": 0
      },
      "text/plain": [
       "VBox(children=(Figure(camera=PerspectiveCamera(fov=46.0, position=(0.0, 0.0, 2.0), quaternion=(0.0, 0.0, 0.0, …"
      ]
     },
     "metadata": {},
     "output_type": "display_data"
    }
   ],
   "source": [
    "import ipyvolume as ipv\n",
    "import numpy as np\n",
    "\n",
    "s = 1/2**0.5\n",
    "# 4 vertices for the tetrahedron\n",
    "x = np.array([1.,  -1, 0,  0])\n",
    "y = np.array([0,   0, 1., -1])\n",
    "z = np.array([-s, -s, s,  s])\n",
    "# and 4 surfaces (triangles), where the number refer to the vertex index\n",
    "triangles = [(0, 1, 2), (0, 1, 3), (0, 2, 3), (1,3,2)]\n",
    "\n",
    "ipv.figure()\n",
    "# we draw the tetrahedron\n",
    "mesh = ipv.plot_trisurf(x, y, z, triangles=triangles, color='orange')\n",
    "# and also mark the vertices\n",
    "ipv.scatter(x, y, z, marker='sphere', color='blue')\n",
    "ipv.xyzlim(-2, 2)\n",
    "ipv.show()"
   ]
  },
  {
   "cell_type": "code",
   "execution_count": 12,
   "metadata": {},
   "outputs": [
    {
     "data": {
      "application/vnd.jupyter.widget-view+json": {
       "model_id": "6f99d1ae92724cf2b856c9adf1f36b9b",
       "version_major": 2,
       "version_minor": 0
      },
      "text/plain": [
       "VBox(children=(Figure(camera=PerspectiveCamera(fov=46.0, position=(0.0, 0.0, 2.0), quaternion=(0.0, 0.0, 0.0, …"
      ]
     },
     "metadata": {},
     "output_type": "display_data"
    }
   ],
   "source": [
    "import ipyvolume as ipv\n",
    "import numpy as np\n",
    "\n",
    "# f(u, v) -> (u, v, u*v**2)\n",
    "a = np.arange(-5, 5)\n",
    "U, V = np.meshgrid(a, a)\n",
    "X = U\n",
    "Y = V\n",
    "Z = X*Y**2\n",
    "\n",
    "ipv.figure()\n",
    "ipv.plot_surface(X, Z, Y, color=\"orange\")\n",
    "ipv.plot_wireframe(X, Z, Y, color=\"red\")\n",
    "ipv.show()"
   ]
  },
  {
   "cell_type": "code",
   "execution_count": 13,
   "metadata": {},
   "outputs": [
    {
     "data": {
      "application/vnd.jupyter.widget-view+json": {
       "model_id": "8074872503004bde813e36de0396a7a1",
       "version_major": 2,
       "version_minor": 0
      },
      "text/plain": [
       "VBox(children=(Figure(camera=PerspectiveCamera(fov=46.0, position=(0.0, 0.0, 2.0), quaternion=(0.0, 0.0, 0.0, …"
      ]
     },
     "metadata": {},
     "output_type": "display_data"
    }
   ],
   "source": [
    "import ipyvolume as ipv\n",
    "import numpy as np\n",
    "\n",
    "X = np.arange(-5, 5, 0.25*1)\n",
    "Y = np.arange(-5, 5, 0.25*1)\n",
    "X, Y = np.meshgrid(X, Y)\n",
    "R = np.sqrt(X**2 + Y**2)\n",
    "Z = np.sin(R)\n",
    "\n",
    "from matplotlib import cm\n",
    "colormap = cm.coolwarm\n",
    "znorm = Z - Z.min()\n",
    "znorm /= znorm.ptp()\n",
    "znorm.min(), znorm.max()\n",
    "color = colormap(znorm)\n",
    "\n",
    "ipv.figure()\n",
    "mesh = ipv.plot_surface(X, Z, Y, color=color[...,:3])\n",
    "ipv.show()"
   ]
  },
  {
   "cell_type": "code",
   "execution_count": 5,
   "metadata": {},
   "outputs": [
    {
     "data": {
      "application/vnd.jupyter.widget-view+json": {
       "model_id": "6b7530edef9a413798af96c1d59a790d",
       "version_major": 2,
       "version_minor": 0
      },
      "text/plain": [
       "VBox(children=(Figure(animation=200.0, camera=PerspectiveCamera(fov=46.0, position=(0.0, 0.0, 2.0), quaternion…"
      ]
     },
     "metadata": {},
     "output_type": "display_data"
    }
   ],
   "source": [
    "import numpy as np\n",
    "from numpy import pi, sin, cos, radians\n",
    "import ipyvolume as ipv\n",
    "import ipywidgets as widgets\n",
    "\n",
    "# only x is a sequence of arrays\n",
    "x = np.array([[-1, -0.8], [1, -0.1], [0., 0.5]])\n",
    "y = np.array([0.0, 0.0])\n",
    "z = np.array([0.0, 0.0])\n",
    "ipv.figure()\n",
    "s = ipv.scatter(x, y, z, marker='sphere', size=10)\n",
    "ipv.xyzlim(-1, 1)\n",
    "ipv.animation_control(s) # shows controls for animation controls\n",
    "ipv.show()"
   ]
  },
  {
   "cell_type": "code",
   "execution_count": 3,
   "metadata": {},
   "outputs": [
    {
     "data": {
      "application/vnd.jupyter.widget-view+json": {
       "model_id": "caaee51bc9b94abfbeb738e998b4cf74",
       "version_major": 2,
       "version_minor": 0
      },
      "text/plain": [
       "VBox(children=(Figure(camera=PerspectiveCamera(fov=46.0, position=(0.0, 0.0, 2.0), quaternion=(0.0, 0.0, 0.0, …"
      ]
     },
     "metadata": {},
     "output_type": "display_data"
    },
    {
     "data": {
      "application/vnd.jupyter.widget-view+json": {
       "model_id": "78ea6461dc154b67b877d325c50896bb",
       "version_major": 2,
       "version_minor": 0
      },
      "text/plain": [
       "interactive(children=(FloatSlider(value=0.0, description='theta', max=90.0, min=-90.0), FloatSlider(value=0.0,…"
      ]
     },
     "metadata": {},
     "output_type": "display_data"
    }
   ],
   "source": [
    "import numpy as np\n",
    "from numpy import pi, sin, cos, radians\n",
    "import ipyvolume as ipv\n",
    "import ipywidgets as widgets\n",
    "\n",
    "def transform_xyz(theta, phi, x, y, z):\n",
    "    x, y, z = [np.asarray(v) for v in (x, y, z)]\n",
    "    shape = x.shape\n",
    "    points = np.matrix([x.flatten(), y.flatten(), z.flatten()])\n",
    "    Ry_theta = [[+cos(theta), 0, +sin(theta)],\n",
    "                [0, 1, 0],\n",
    "                [-sin(theta), 0, +cos(theta)]]\n",
    "    Rz_phi = [[+cos(phi), -sin(phi), 0],\n",
    "              [+sin(phi), +cos(phi), 0],\n",
    "              [0, 0, 1]]\n",
    "    points = np.matrix(Rz_phi)*np.matrix(Ry_theta)*points\n",
    "    x, y, z = [np.array(v).reshape(shape) for v in points]\n",
    "    return x, y, z\n",
    "\n",
    "def torus(R=100, r=10, Rsteps=100, rsteps=100):\n",
    "    u = np.linspace(0, 2*pi, rsteps) # tube\n",
    "    v = np.linspace(0, 2*pi, Rsteps) # ring\n",
    "    U, V = np.meshgrid(u, v)\n",
    "    x = (R + r*cos(U))*cos(V)\n",
    "    y = (R + r*cos(U))*sin(V)\n",
    "    z = r*sin(U)\n",
    "    return x, y, z\n",
    "\n",
    "class Scene:\n",
    "    def __init__(self, view=(0, 0, 0), hkl=(1,1,1)):\n",
    "        self.view = view\n",
    "        self.figure = ipv.figure()\n",
    "        R = 100.\n",
    "        r = R/30.\n",
    "        ipv.xlim(-R, R)\n",
    "        ipv.ylim(-R, R)\n",
    "        ipv.zlim(-R, R)\n",
    "        ipv.style.box_off()\n",
    "        self.torus_xyz = torus(R=R, r=R/10)\n",
    "        self.torus = ipv.plot_surface(*self.torus_xyz)\n",
    "        ipv.show()\n",
    "        self.ui = widgets.interact(self.update, theta=(-90.,90.), phi=(-180., 180.))\n",
    "        #self.ui.widget.children[0].continuous_update = False\n",
    "        #self.ui.widget.children[1].continuous_update = False\n",
    "\n",
    "    def update(self, theta, phi):\n",
    "        print(\"update with\", theta, phi)\n",
    "        x, y, z = transform_xyz(radians(theta), radians(phi), *self.torus_xyz)\n",
    "        self.torus.x = x.flatten()\n",
    "        self.torus.y = y.flatten()\n",
    "        self.torus.z = z.flatten()\n",
    "\n",
    "scene = Scene()"
   ]
  },
  {
   "cell_type": "code",
   "execution_count": 8,
   "metadata": {},
   "outputs": [
    {
     "name": "stdout",
     "output_type": "stream",
     "text": [
      "x,y and z are of shape (25, 25)\n",
      "and flattened of shape (625,)\n",
      "z is of shape (15, 625)\n"
     ]
    },
    {
     "data": {
      "application/vnd.jupyter.widget-view+json": {
       "model_id": "d89c31288ea34dfbb63770e8f2ff4f3b",
       "version_major": 2,
       "version_minor": 0
      },
      "text/plain": [
       "VBox(children=(Figure(animation=200.0, camera=PerspectiveCamera(fov=46.0, position=(0.0, 0.0, 2.0), quaternion…"
      ]
     },
     "metadata": {},
     "output_type": "display_data"
    },
    {
     "name": "stdout",
     "output_type": "stream",
     "text": [
      "color is of shape (15, 3, 625)\n"
     ]
    },
    {
     "data": {
      "application/vnd.jupyter.widget-view+json": {
       "model_id": "5bc3a28365b145d9b62b51db5530d710",
       "version_major": 2,
       "version_minor": 0
      },
      "text/plain": [
       "VBox(children=(Figure(animation=200.0, camera=PerspectiveCamera(fov=46.0, position=(0.0, 0.0, 2.0), quaternion…"
      ]
     },
     "metadata": {},
     "output_type": "display_data"
    }
   ],
   "source": [
    "import numpy as np\n",
    "from numpy import pi, sin, cos, radians\n",
    "import ipyvolume as ipv\n",
    "import ipywidgets as widgets\n",
    "\n",
    "# create 2d grids: x, y, and r\n",
    "u = np.linspace(-10, 10, 25)\n",
    "x, y = np.meshgrid(u, u)\n",
    "r = np.sqrt(x**2+y**2)\n",
    "print(\"x,y and z are of shape\", x.shape)\n",
    "# and turn them into 1d\n",
    "x = x.flatten()\n",
    "y = y.flatten()\n",
    "r = r.flatten()\n",
    "print(\"and flattened of shape\", x.shape)\n",
    "\n",
    "# create a sequence of 15 time elements\n",
    "time = np.linspace(0, np.pi*2, 15)\n",
    "z = np.array([(np.cos(r + t) * np.exp(-r/5)) for t in time])\n",
    "print(\"z is of shape\", z.shape)\n",
    "\n",
    "# draw the scatter plot, and add controls with animate_glyphs\n",
    "ipv.figure()\n",
    "s = ipv.scatter(x, z, y, marker=\"sphere\")\n",
    "ipv.animation_control(s, interval=200)\n",
    "ipv.ylim(-3,3)\n",
    "ipv.show()\n",
    "\n",
    "# Now also include, color, which containts rgb values\n",
    "color = np.array([[np.cos(r + t), 1-np.abs(z[i]), 0.1+z[i]*0] for i, t in enumerate(time)])\n",
    "size = (z+1)\n",
    "print(\"color is of shape\", color.shape)\n",
    "\n",
    "color = np.transpose(color, (0, 2, 1)) # flip the last axes\n",
    "\n",
    "ipv.figure()\n",
    "s = ipv.scatter(x, z, y, color=color, size=size, marker=\"sphere\")\n",
    "ipv.animation_control(s, interval=200)\n",
    "ipv.ylim(-3,3)\n",
    "ipv.show()"
   ]
  },
  {
   "cell_type": "code",
   "execution_count": 9,
   "metadata": {},
   "outputs": [
    {
     "data": {
      "application/vnd.jupyter.widget-view+json": {
       "model_id": "71a4628fbd44476b87de49640ab7fdd0",
       "version_major": 2,
       "version_minor": 0
      },
      "text/plain": [
       "Output()"
      ]
     },
     "metadata": {},
     "output_type": "display_data"
    }
   ],
   "source": [
    "import numpy as np\n",
    "from numpy import pi, sin, cos, radians\n",
    "import ipyvolume as ipv\n",
    "import ipywidgets as widgets\n",
    "\n",
    "\n",
    "def set_view(figure, framenr, fraction):\n",
    "    ipv.view(fraction*360, (fraction - 0.5) * 180, distance=2 + fraction*2)\n",
    "    s.size = size * (2+0.5*np.sin(fraction * 6 * np.pi))\n",
    "ipv.movie('wave.gif', set_view, fps=20, frames=40)\n",
    "\n",
    "# include the gif with base64 encoding\n",
    "import IPython.display\n",
    "import base64\n",
    "with open('wave.gif', 'rb') as gif:\n",
    "    url = b\"data:image/gif;base64,\" +base64.b64encode(gif.read())\n",
    "IPython.display.Image(url=url.decode('ascii'))"
   ]
  },
  {
   "cell_type": "code",
   "execution_count": 10,
   "metadata": {},
   "outputs": [
    {
     "name": "stdout",
     "output_type": "stream",
     "text": [
      "Downloading https://github.com/maartenbreddels/ipyvolume/raw/master/datasets/stream-animation.npy.bz2 to C:\\Users\\14438/.ipyvolume/datasets\\stream-animation.npy.bz2\n",
      "Download failed, exit code was: 1 will try with curl\n",
      "Download failed again, exit code was: 1 using urlretrieve\n",
      "shape of steam data (6, 200, 1250)\n"
     ]
    },
    {
     "data": {
      "application/vnd.jupyter.widget-view+json": {
       "model_id": "3d98aedb347c4d03b33909f7bd8a7fce",
       "version_major": 2,
       "version_minor": 0
      },
      "text/plain": [
       "VBox(children=(Figure(animation=200.0, camera=PerspectiveCamera(fov=46.0, position=(0.0, 0.0, 2.0), quaternion…"
      ]
     },
     "metadata": {},
     "output_type": "display_data"
    }
   ],
   "source": [
    "import numpy as np\n",
    "from numpy import pi, sin, cos, radians\n",
    "import ipyvolume as ipv\n",
    "import ipywidgets as widgets\n",
    "import ipyvolume.datasets\n",
    "\n",
    "stream = ipyvolume.datasets.animated_stream.fetch()\n",
    "print(\"shape of steam data\", stream.data.shape) # first dimension contains x, y, z, vx, vy, vz, then t\n",
    "\n",
    "fig = ipv.figure()\n",
    "# instead of doing x=stream.data[0], y=stream.data[1], ... vz=stream.data[5], use *stream.data\n",
    "# limit to 50 timesteps to avoid having a huge notebook\n",
    "q = ipv.quiver(*stream.data[:,0:50,:200], color=\"red\", size=7)\n",
    "ipv.style.use(\"dark\") # looks better\n",
    "ipv.animation_control(q, interval=200)\n",
    "ipv.show()"
   ]
  },
  {
   "cell_type": "code",
   "execution_count": 15,
   "metadata": {},
   "outputs": [
    {
     "ename": "ModuleNotFoundError",
     "evalue": "No module named 'vaex'",
     "output_type": "error",
     "traceback": [
      "\u001b[1;31m---------------------------------------------------------------------------\u001b[0m",
      "\u001b[1;31mModuleNotFoundError\u001b[0m                       Traceback (most recent call last)",
      "\u001b[1;32m<ipython-input-15-c3ae5a5acba5>\u001b[0m in \u001b[0;36m<module>\u001b[1;34m\u001b[0m\n\u001b[0;32m      1\u001b[0m \u001b[1;32mimport\u001b[0m \u001b[0mnumpy\u001b[0m \u001b[1;32mas\u001b[0m \u001b[0mnp\u001b[0m\u001b[1;33m\u001b[0m\u001b[1;33m\u001b[0m\u001b[0m\n\u001b[1;32m----> 2\u001b[1;33m \u001b[1;32mimport\u001b[0m \u001b[0mvaex\u001b[0m\u001b[1;33m\u001b[0m\u001b[1;33m\u001b[0m\u001b[0m\n\u001b[0m\u001b[0;32m      3\u001b[0m \u001b[1;32mfrom\u001b[0m \u001b[0mnumpy\u001b[0m \u001b[1;32mimport\u001b[0m \u001b[0mpi\u001b[0m\u001b[1;33m,\u001b[0m \u001b[0msin\u001b[0m\u001b[1;33m,\u001b[0m \u001b[0mcos\u001b[0m\u001b[1;33m,\u001b[0m \u001b[0mradians\u001b[0m\u001b[1;33m\u001b[0m\u001b[1;33m\u001b[0m\u001b[0m\n\u001b[0;32m      4\u001b[0m \u001b[1;32mimport\u001b[0m \u001b[0mipyvolume\u001b[0m \u001b[1;32mas\u001b[0m \u001b[0mipv\u001b[0m\u001b[1;33m\u001b[0m\u001b[1;33m\u001b[0m\u001b[0m\n\u001b[0;32m      5\u001b[0m \u001b[1;32mimport\u001b[0m \u001b[0mipywidgets\u001b[0m \u001b[1;32mas\u001b[0m \u001b[0mwidgets\u001b[0m\u001b[1;33m\u001b[0m\u001b[1;33m\u001b[0m\u001b[0m\n",
      "\u001b[1;31mModuleNotFoundError\u001b[0m: No module named 'vaex'"
     ]
    }
   ],
   "source": [
    "import numpy as np\n",
    "import vaex\n",
    "from numpy import pi, sin, cos, radians\n",
    "import ipyvolume as ipv\n",
    "import ipywidgets as widgets\n",
    "import ipyvolume.datasets\n",
    "\n",
    "ds = vaex.example()\n",
    "N = 2000 # for performance reasons we only do a subset\n",
    "x, y, z, vx, vy, vz, Lz, E = [ds.columns[k][:N] for k in \"x y z vx vy vz Lz E\".split()]\n",
    "\n",
    "import bqplot.pyplot as plt\n",
    "\n",
    "plt.figure(1, title=\"E Lz space\")\n",
    "scatter = plt.scatter(Lz, E,\n",
    "                selected_style={'opacity': 0.2, 'size':1, 'stroke': 'red'},\n",
    "                unselected_style={'opacity': 0.2, 'size':1, 'stroke': 'blue'},\n",
    "                default_size=1,\n",
    "               )\n",
    "plt.brush_selector()\n",
    "plt.show()\n",
    "\n",
    "import ipyvolume.pylab as p3\n",
    "\n",
    "p3.clear()\n",
    "quiver = p3.quiver(x, y, z, vx, vy, vz, size=2, size_selected=5, color_selected=\"blue\")\n",
    "p3.show()\n",
    "\n",
    "from ipywidgets import jslink, VBox\n",
    "\n",
    "jslink((scatter, 'selected'), (quiver, 'selected'))\n",
    "\n",
    "hbox = VBox([p3.current.container, plt.figure(1)])\n",
    "hbox"
   ]
  },
  {
   "cell_type": "code",
   "execution_count": 16,
   "metadata": {},
   "outputs": [
    {
     "ename": "ModuleNotFoundError",
     "evalue": "No module named 'vaex'",
     "output_type": "error",
     "traceback": [
      "\u001b[1;31m---------------------------------------------------------------------------\u001b[0m",
      "\u001b[1;31mModuleNotFoundError\u001b[0m                       Traceback (most recent call last)",
      "\u001b[1;32m<ipython-input-16-3d10533ee41f>\u001b[0m in \u001b[0;36m<module>\u001b[1;34m\u001b[0m\n\u001b[1;32m----> 1\u001b[1;33m \u001b[1;32mimport\u001b[0m \u001b[0mvaex\u001b[0m\u001b[1;33m\u001b[0m\u001b[1;33m\u001b[0m\u001b[0m\n\u001b[0m\u001b[0;32m      2\u001b[0m \u001b[0mdf\u001b[0m \u001b[1;33m=\u001b[0m \u001b[0mvaex\u001b[0m\u001b[1;33m.\u001b[0m\u001b[0mexample\u001b[0m\u001b[1;33m(\u001b[0m\u001b[1;33m)\u001b[0m\u001b[1;33m\u001b[0m\u001b[1;33m\u001b[0m\u001b[0m\n\u001b[0;32m      3\u001b[0m \u001b[0mdf\u001b[0m  \u001b[1;31m# begin the last statement it will print out the tabular data\u001b[0m\u001b[1;33m\u001b[0m\u001b[1;33m\u001b[0m\u001b[0m\n",
      "\u001b[1;31mModuleNotFoundError\u001b[0m: No module named 'vaex'"
     ]
    }
   ],
   "source": []
  },
  {
   "cell_type": "code",
   "execution_count": null,
   "metadata": {},
   "outputs": [],
   "source": []
  }
 ],
 "metadata": {
  "kernelspec": {
   "display_name": "Python 3",
   "language": "python",
   "name": "python3"
  },
  "language_info": {
   "codemirror_mode": {
    "name": "ipython",
    "version": 3
   },
   "file_extension": ".py",
   "mimetype": "text/x-python",
   "name": "python",
   "nbconvert_exporter": "python",
   "pygments_lexer": "ipython3",
   "version": "3.7.4"
  }
 },
 "nbformat": 4,
 "nbformat_minor": 2
}
